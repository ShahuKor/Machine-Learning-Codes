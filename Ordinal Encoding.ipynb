{
 "cells": [
  {
   "cell_type": "code",
   "execution_count": 2,
   "id": "3d658f71-0080-4b66-aa16-b793767af8a0",
   "metadata": {},
   "outputs": [],
   "source": [
    "import pandas as pd\n",
    "import numpy as np"
   ]
  },
  {
   "cell_type": "code",
   "execution_count": 6,
   "id": "3fb21ab8-40c0-4bd3-b92c-1c99c3af185d",
   "metadata": {},
   "outputs": [],
   "source": [
    "df = pd.read_csv('customer.csv')"
   ]
  },
  {
   "cell_type": "code",
   "execution_count": 8,
   "id": "1543fdf6-3cd9-40ba-81f5-53620216c7ce",
   "metadata": {},
   "outputs": [
    {
     "data": {
      "text/html": [
       "<div>\n",
       "<style scoped>\n",
       "    .dataframe tbody tr th:only-of-type {\n",
       "        vertical-align: middle;\n",
       "    }\n",
       "\n",
       "    .dataframe tbody tr th {\n",
       "        vertical-align: top;\n",
       "    }\n",
       "\n",
       "    .dataframe thead th {\n",
       "        text-align: right;\n",
       "    }\n",
       "</style>\n",
       "<table border=\"1\" class=\"dataframe\">\n",
       "  <thead>\n",
       "    <tr style=\"text-align: right;\">\n",
       "      <th></th>\n",
       "      <th>age</th>\n",
       "      <th>gender</th>\n",
       "      <th>review</th>\n",
       "      <th>education</th>\n",
       "      <th>purchased</th>\n",
       "    </tr>\n",
       "  </thead>\n",
       "  <tbody>\n",
       "    <tr>\n",
       "      <th>4</th>\n",
       "      <td>16</td>\n",
       "      <td>Female</td>\n",
       "      <td>Average</td>\n",
       "      <td>UG</td>\n",
       "      <td>No</td>\n",
       "    </tr>\n",
       "    <tr>\n",
       "      <th>35</th>\n",
       "      <td>74</td>\n",
       "      <td>Male</td>\n",
       "      <td>Poor</td>\n",
       "      <td>School</td>\n",
       "      <td>Yes</td>\n",
       "    </tr>\n",
       "    <tr>\n",
       "      <th>0</th>\n",
       "      <td>30</td>\n",
       "      <td>Female</td>\n",
       "      <td>Average</td>\n",
       "      <td>School</td>\n",
       "      <td>No</td>\n",
       "    </tr>\n",
       "    <tr>\n",
       "      <th>3</th>\n",
       "      <td>72</td>\n",
       "      <td>Female</td>\n",
       "      <td>Good</td>\n",
       "      <td>PG</td>\n",
       "      <td>No</td>\n",
       "    </tr>\n",
       "    <tr>\n",
       "      <th>27</th>\n",
       "      <td>69</td>\n",
       "      <td>Female</td>\n",
       "      <td>Poor</td>\n",
       "      <td>PG</td>\n",
       "      <td>No</td>\n",
       "    </tr>\n",
       "  </tbody>\n",
       "</table>\n",
       "</div>"
      ],
      "text/plain": [
       "    age  gender   review education purchased\n",
       "4    16  Female  Average        UG        No\n",
       "35   74    Male     Poor    School       Yes\n",
       "0    30  Female  Average    School        No\n",
       "3    72  Female     Good        PG        No\n",
       "27   69  Female     Poor        PG        No"
      ]
     },
     "execution_count": 8,
     "metadata": {},
     "output_type": "execute_result"
    }
   ],
   "source": [
    "df.sample(5)"
   ]
  },
  {
   "cell_type": "code",
   "execution_count": 10,
   "id": "3c80a5a3-0281-439a-b4b1-26c52b73e0e4",
   "metadata": {},
   "outputs": [],
   "source": [
    "# We can only do Oridinal Encoding on Oridinal Categorical Data\n",
    "# In the above table Ordinal Categorical Data is only Column \"review\" and \"Education\"\n",
    "# Our Dependant Variable Column (Y) is a categorical data as well so for that we will be using \"Label Encoding\""
   ]
  },
  {
   "cell_type": "code",
   "execution_count": 12,
   "id": "941618d7-cfd0-41fc-8b41-e256a216137e",
   "metadata": {},
   "outputs": [],
   "source": [
    "df = df.iloc[:,2:]"
   ]
  },
  {
   "cell_type": "code",
   "execution_count": 14,
   "id": "284ed466-0889-47b8-9d99-a40f9a050c59",
   "metadata": {},
   "outputs": [
    {
     "data": {
      "text/html": [
       "<div>\n",
       "<style scoped>\n",
       "    .dataframe tbody tr th:only-of-type {\n",
       "        vertical-align: middle;\n",
       "    }\n",
       "\n",
       "    .dataframe tbody tr th {\n",
       "        vertical-align: top;\n",
       "    }\n",
       "\n",
       "    .dataframe thead th {\n",
       "        text-align: right;\n",
       "    }\n",
       "</style>\n",
       "<table border=\"1\" class=\"dataframe\">\n",
       "  <thead>\n",
       "    <tr style=\"text-align: right;\">\n",
       "      <th></th>\n",
       "      <th>review</th>\n",
       "      <th>education</th>\n",
       "      <th>purchased</th>\n",
       "    </tr>\n",
       "  </thead>\n",
       "  <tbody>\n",
       "    <tr>\n",
       "      <th>0</th>\n",
       "      <td>Average</td>\n",
       "      <td>School</td>\n",
       "      <td>No</td>\n",
       "    </tr>\n",
       "    <tr>\n",
       "      <th>1</th>\n",
       "      <td>Poor</td>\n",
       "      <td>UG</td>\n",
       "      <td>No</td>\n",
       "    </tr>\n",
       "    <tr>\n",
       "      <th>2</th>\n",
       "      <td>Good</td>\n",
       "      <td>PG</td>\n",
       "      <td>No</td>\n",
       "    </tr>\n",
       "    <tr>\n",
       "      <th>3</th>\n",
       "      <td>Good</td>\n",
       "      <td>PG</td>\n",
       "      <td>No</td>\n",
       "    </tr>\n",
       "    <tr>\n",
       "      <th>4</th>\n",
       "      <td>Average</td>\n",
       "      <td>UG</td>\n",
       "      <td>No</td>\n",
       "    </tr>\n",
       "  </tbody>\n",
       "</table>\n",
       "</div>"
      ],
      "text/plain": [
       "    review education purchased\n",
       "0  Average    School        No\n",
       "1     Poor        UG        No\n",
       "2     Good        PG        No\n",
       "3     Good        PG        No\n",
       "4  Average        UG        No"
      ]
     },
     "execution_count": 14,
     "metadata": {},
     "output_type": "execute_result"
    }
   ],
   "source": [
    "df.head()"
   ]
  },
  {
   "cell_type": "code",
   "execution_count": 28,
   "id": "f82c9a19-44eb-4dde-9ab3-b51eae5fdc0b",
   "metadata": {},
   "outputs": [],
   "source": [
    "X= df[['review','education']]"
   ]
  },
  {
   "cell_type": "code",
   "execution_count": 30,
   "id": "79e6ea0a-acc0-4f90-9523-8ac949ded6ba",
   "metadata": {},
   "outputs": [
    {
     "data": {
      "text/html": [
       "<div>\n",
       "<style scoped>\n",
       "    .dataframe tbody tr th:only-of-type {\n",
       "        vertical-align: middle;\n",
       "    }\n",
       "\n",
       "    .dataframe tbody tr th {\n",
       "        vertical-align: top;\n",
       "    }\n",
       "\n",
       "    .dataframe thead th {\n",
       "        text-align: right;\n",
       "    }\n",
       "</style>\n",
       "<table border=\"1\" class=\"dataframe\">\n",
       "  <thead>\n",
       "    <tr style=\"text-align: right;\">\n",
       "      <th></th>\n",
       "      <th>review</th>\n",
       "      <th>education</th>\n",
       "    </tr>\n",
       "  </thead>\n",
       "  <tbody>\n",
       "    <tr>\n",
       "      <th>0</th>\n",
       "      <td>Average</td>\n",
       "      <td>School</td>\n",
       "    </tr>\n",
       "    <tr>\n",
       "      <th>1</th>\n",
       "      <td>Poor</td>\n",
       "      <td>UG</td>\n",
       "    </tr>\n",
       "    <tr>\n",
       "      <th>2</th>\n",
       "      <td>Good</td>\n",
       "      <td>PG</td>\n",
       "    </tr>\n",
       "    <tr>\n",
       "      <th>3</th>\n",
       "      <td>Good</td>\n",
       "      <td>PG</td>\n",
       "    </tr>\n",
       "    <tr>\n",
       "      <th>4</th>\n",
       "      <td>Average</td>\n",
       "      <td>UG</td>\n",
       "    </tr>\n",
       "  </tbody>\n",
       "</table>\n",
       "</div>"
      ],
      "text/plain": [
       "    review education\n",
       "0  Average    School\n",
       "1     Poor        UG\n",
       "2     Good        PG\n",
       "3     Good        PG\n",
       "4  Average        UG"
      ]
     },
     "execution_count": 30,
     "metadata": {},
     "output_type": "execute_result"
    }
   ],
   "source": [
    "X.head()"
   ]
  },
  {
   "cell_type": "code",
   "execution_count": 32,
   "id": "0c6e2b0f-29ac-4678-be88-d01f740c060a",
   "metadata": {},
   "outputs": [],
   "source": [
    "Y = df['purchased']"
   ]
  },
  {
   "cell_type": "code",
   "execution_count": 34,
   "id": "015b5f71-1011-4cef-9ef1-038d8714f9be",
   "metadata": {},
   "outputs": [
    {
     "data": {
      "text/plain": [
       "0      No\n",
       "1      No\n",
       "2      No\n",
       "3      No\n",
       "4      No\n",
       "5     Yes\n",
       "6      No\n",
       "7     Yes\n",
       "8      No\n",
       "9     Yes\n",
       "10    Yes\n",
       "11    Yes\n",
       "12     No\n",
       "13     No\n",
       "14    Yes\n",
       "15     No\n",
       "16    Yes\n",
       "17    Yes\n",
       "18     No\n",
       "19    Yes\n",
       "20    Yes\n",
       "21     No\n",
       "22    Yes\n",
       "23     No\n",
       "24    Yes\n",
       "25     No\n",
       "26     No\n",
       "27     No\n",
       "28     No\n",
       "29    Yes\n",
       "30     No\n",
       "31    Yes\n",
       "32    Yes\n",
       "33    Yes\n",
       "34     No\n",
       "35    Yes\n",
       "36    Yes\n",
       "37    Yes\n",
       "38     No\n",
       "39     No\n",
       "40     No\n",
       "41    Yes\n",
       "42    Yes\n",
       "43     No\n",
       "44     No\n",
       "45    Yes\n",
       "46     No\n",
       "47    Yes\n",
       "48    Yes\n",
       "49     No\n",
       "Name: purchased, dtype: object"
      ]
     },
     "execution_count": 34,
     "metadata": {},
     "output_type": "execute_result"
    }
   ],
   "source": [
    "Y"
   ]
  },
  {
   "cell_type": "code",
   "execution_count": 36,
   "id": "15bb5a39-baee-4cf1-8077-79920f58db59",
   "metadata": {},
   "outputs": [],
   "source": [
    "from sklearn.model_selection import train_test_split\n",
    "X_train, X_test, y_train, y_test = train_test_split(X,Y, test_size = 0.2)"
   ]
  },
  {
   "cell_type": "code",
   "execution_count": 40,
   "id": "9ed25eff-4011-4192-8dbd-43f92e36d165",
   "metadata": {},
   "outputs": [
    {
     "data": {
      "text/html": [
       "<div>\n",
       "<style scoped>\n",
       "    .dataframe tbody tr th:only-of-type {\n",
       "        vertical-align: middle;\n",
       "    }\n",
       "\n",
       "    .dataframe tbody tr th {\n",
       "        vertical-align: top;\n",
       "    }\n",
       "\n",
       "    .dataframe thead th {\n",
       "        text-align: right;\n",
       "    }\n",
       "</style>\n",
       "<table border=\"1\" class=\"dataframe\">\n",
       "  <thead>\n",
       "    <tr style=\"text-align: right;\">\n",
       "      <th></th>\n",
       "      <th>review</th>\n",
       "      <th>education</th>\n",
       "    </tr>\n",
       "  </thead>\n",
       "  <tbody>\n",
       "    <tr>\n",
       "      <th>12</th>\n",
       "      <td>Poor</td>\n",
       "      <td>School</td>\n",
       "    </tr>\n",
       "    <tr>\n",
       "      <th>23</th>\n",
       "      <td>Good</td>\n",
       "      <td>School</td>\n",
       "    </tr>\n",
       "    <tr>\n",
       "      <th>46</th>\n",
       "      <td>Poor</td>\n",
       "      <td>PG</td>\n",
       "    </tr>\n",
       "    <tr>\n",
       "      <th>27</th>\n",
       "      <td>Poor</td>\n",
       "      <td>PG</td>\n",
       "    </tr>\n",
       "    <tr>\n",
       "      <th>36</th>\n",
       "      <td>Good</td>\n",
       "      <td>UG</td>\n",
       "    </tr>\n",
       "  </tbody>\n",
       "</table>\n",
       "</div>"
      ],
      "text/plain": [
       "   review education\n",
       "12   Poor    School\n",
       "23   Good    School\n",
       "46   Poor        PG\n",
       "27   Poor        PG\n",
       "36   Good        UG"
      ]
     },
     "execution_count": 40,
     "metadata": {},
     "output_type": "execute_result"
    }
   ],
   "source": [
    "X_train.head()"
   ]
  },
  {
   "cell_type": "code",
   "execution_count": 42,
   "id": "8da2a6fc-6719-412f-9365-9b93eba16f18",
   "metadata": {},
   "outputs": [
    {
     "data": {
      "text/plain": [
       "12     No\n",
       "23     No\n",
       "46     No\n",
       "27     No\n",
       "36    Yes\n",
       "Name: purchased, dtype: object"
      ]
     },
     "execution_count": 42,
     "metadata": {},
     "output_type": "execute_result"
    }
   ],
   "source": [
    "y_train.head()"
   ]
  },
  {
   "cell_type": "code",
   "execution_count": 44,
   "id": "70fecb86-6f52-492b-b202-2eef94a77b93",
   "metadata": {},
   "outputs": [],
   "source": [
    "from sklearn.preprocessing import OrdinalEncoder"
   ]
  },
  {
   "cell_type": "code",
   "execution_count": 48,
   "id": "d17ddc71-2872-42e7-a481-00b728a9756e",
   "metadata": {},
   "outputs": [],
   "source": [
    "oe = OrdinalEncoder(categories = [['Poor', 'Average', 'Good'] , ['School', 'UG', 'PG']])"
   ]
  },
  {
   "cell_type": "code",
   "execution_count": 50,
   "id": "2d1c2b68-4fa6-4003-9db1-cacab20c0e74",
   "metadata": {},
   "outputs": [],
   "source": [
    "X_train_oe = oe.fit_transform(X_train)\n",
    "X_test_oe = oe.transform(X_test)"
   ]
  },
  {
   "cell_type": "code",
   "execution_count": 54,
   "id": "8d548f2e-dc64-4467-9be6-0b50860cf49a",
   "metadata": {},
   "outputs": [
    {
     "data": {
      "text/plain": [
       "array([[0., 0.],\n",
       "       [2., 0.],\n",
       "       [0., 2.],\n",
       "       [0., 2.],\n",
       "       [2., 1.],\n",
       "       [1., 1.],\n",
       "       [0., 0.],\n",
       "       [0., 0.],\n",
       "       [2., 0.],\n",
       "       [0., 0.],\n",
       "       [1., 0.],\n",
       "       [2., 2.],\n",
       "       [2., 0.],\n",
       "       [2., 0.],\n",
       "       [2., 0.],\n",
       "       [0., 1.],\n",
       "       [0., 2.],\n",
       "       [1., 1.],\n",
       "       [0., 1.],\n",
       "       [2., 1.],\n",
       "       [2., 2.],\n",
       "       [1., 0.],\n",
       "       [1., 1.],\n",
       "       [1., 2.],\n",
       "       [0., 2.],\n",
       "       [2., 1.],\n",
       "       [0., 2.],\n",
       "       [0., 2.],\n",
       "       [2., 2.],\n",
       "       [1., 0.],\n",
       "       [0., 1.],\n",
       "       [0., 0.],\n",
       "       [1., 0.],\n",
       "       [2., 1.],\n",
       "       [0., 2.],\n",
       "       [1., 2.],\n",
       "       [2., 0.],\n",
       "       [2., 1.],\n",
       "       [1., 1.],\n",
       "       [1., 0.]])"
      ]
     },
     "execution_count": 54,
     "metadata": {},
     "output_type": "execute_result"
    }
   ],
   "source": [
    "X_train_oe"
   ]
  },
  {
   "cell_type": "code",
   "execution_count": 56,
   "id": "f85ee6a6-419d-4082-9db4-ef32a6408ce0",
   "metadata": {},
   "outputs": [],
   "source": [
    "# Similarly we will perform Label Encoding on the Target Variable Y\n"
   ]
  },
  {
   "cell_type": "code",
   "execution_count": 58,
   "id": "e2376046-d535-4961-b452-13b73f463e49",
   "metadata": {},
   "outputs": [],
   "source": [
    "from sklearn.preprocessing import LabelEncoder"
   ]
  },
  {
   "cell_type": "code",
   "execution_count": 60,
   "id": "644df63a-aec7-457d-bb1e-5fafdeb7000f",
   "metadata": {},
   "outputs": [],
   "source": [
    "le = LabelEncoder()"
   ]
  },
  {
   "cell_type": "code",
   "execution_count": 62,
   "id": "03730748-99e7-4f8d-98c4-c04c031dc9e1",
   "metadata": {},
   "outputs": [],
   "source": [
    "y_train_le = le.fit_transform(y_train)\n",
    "y_test_le = le.transform(y_test)"
   ]
  },
  {
   "cell_type": "code",
   "execution_count": 64,
   "id": "3f81c2ba-1997-4ca3-b4f2-a1dcb2c07931",
   "metadata": {},
   "outputs": [
    {
     "data": {
      "text/plain": [
       "array([0, 0, 0, 0, 1, 0, 1, 1, 0, 0, 0, 1, 0, 0, 0, 0, 0, 1, 0, 1, 0, 0,\n",
       "       0, 0, 1, 1, 1, 1, 1, 1, 1, 1, 0, 0, 0, 1, 0, 1, 0, 1])"
      ]
     },
     "execution_count": 64,
     "metadata": {},
     "output_type": "execute_result"
    }
   ],
   "source": [
    "y_train_le"
   ]
  },
  {
   "cell_type": "code",
   "execution_count": 66,
   "id": "861055b6-246e-4ed6-96c9-98536071fb1d",
   "metadata": {},
   "outputs": [
    {
     "data": {
      "text/plain": [
       "12     No\n",
       "23     No\n",
       "46     No\n",
       "27     No\n",
       "36    Yes\n",
       "30     No\n",
       "35    Yes\n",
       "31    Yes\n",
       "25     No\n",
       "28     No\n",
       "13     No\n",
       "47    Yes\n",
       "38     No\n",
       "40     No\n",
       "18     No\n",
       "15     No\n",
       "26     No\n",
       "29    Yes\n",
       "1      No\n",
       "10    Yes\n",
       "3      No\n",
       "0      No\n",
       "8      No\n",
       "21     No\n",
       "22    Yes\n",
       "11    Yes\n",
       "45    Yes\n",
       "14    Yes\n",
       "33    Yes\n",
       "20    Yes\n",
       "16    Yes\n",
       "7     Yes\n",
       "34     No\n",
       "49     No\n",
       "43     No\n",
       "24    Yes\n",
       "6      No\n",
       "9     Yes\n",
       "4      No\n",
       "5     Yes\n",
       "Name: purchased, dtype: object"
      ]
     },
     "execution_count": 66,
     "metadata": {},
     "output_type": "execute_result"
    }
   ],
   "source": [
    "y_train"
   ]
  },
  {
   "cell_type": "code",
   "execution_count": null,
   "id": "bc7916d9-127b-434d-9ffa-7ee2490d6094",
   "metadata": {},
   "outputs": [],
   "source": []
  }
 ],
 "metadata": {
  "kernelspec": {
   "display_name": "Python 3 (ipykernel)",
   "language": "python",
   "name": "python3"
  },
  "language_info": {
   "codemirror_mode": {
    "name": "ipython",
    "version": 3
   },
   "file_extension": ".py",
   "mimetype": "text/x-python",
   "name": "python",
   "nbconvert_exporter": "python",
   "pygments_lexer": "ipython3",
   "version": "3.12.4"
  }
 },
 "nbformat": 4,
 "nbformat_minor": 5
}
